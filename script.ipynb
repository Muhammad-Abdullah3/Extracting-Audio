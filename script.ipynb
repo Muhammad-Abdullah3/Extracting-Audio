{
 "cells": [
  {
   "cell_type": "code",
   "execution_count": 1,
   "metadata": {},
   "outputs": [
    {
     "name": "stdout",
     "output_type": "stream",
     "text": [
      "MoviePy - Writing audio in E:/audio.mp3\n"
     ]
    },
    {
     "name": "stderr",
     "output_type": "stream",
     "text": [
      "                                                                       \r"
     ]
    },
    {
     "name": "stdout",
     "output_type": "stream",
     "text": [
      "MoviePy - Done.\n",
      "Audio extracted and saved as MP3 file to E:/audio.mp3\n"
     ]
    }
   ],
   "source": [
    "import os\n",
    "import pytube\n",
    "from moviepy.editor import *\n",
    "\n",
    "# Define the YouTube video URL\n",
    "youtube_url = \"https://www.youtube.com/watch?v=e4XsHIQauJA\"\n",
    "\n",
    "# Create a PyTube object and get the audio stream\n",
    "yt = pytube.YouTube(youtube_url)\n",
    "audio_stream = yt.streams.filter(only_audio=True).first()\n",
    "\n",
    "# Download the audio stream as a temporary file\n",
    "temp_file = audio_stream.download()\n",
    "\n",
    "# Convert the audio stream to an MP3 file using MoviePy\n",
    "audio_clip = AudioFileClip(temp_file)\n",
    "mp3_file = os.path.join(\"E:/\", \"audio.mp3\")\n",
    "audio_clip.write_audiofile(mp3_file)\n",
    "\n",
    "# Clean up the temporary file\n",
    "os.remove(temp_file)\n",
    "\n",
    "print(\"Audio extracted and saved as MP3 file to\", mp3_file)"
   ]
  },
  {
   "cell_type": "code",
   "execution_count": null,
   "metadata": {},
   "outputs": [],
   "source": []
  }
 ],
 "metadata": {
  "kernelspec": {
   "display_name": "Python 3",
   "language": "python",
   "name": "python3"
  },
  "language_info": {
   "codemirror_mode": {
    "name": "ipython",
    "version": 3
   },
   "file_extension": ".py",
   "mimetype": "text/x-python",
   "name": "python",
   "nbconvert_exporter": "python",
   "pygments_lexer": "ipython3",
   "version": "3.11.1"
  },
  "orig_nbformat": 4
 },
 "nbformat": 4,
 "nbformat_minor": 2
}
